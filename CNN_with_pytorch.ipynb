{
 "cells": [
  {
   "cell_type": "markdown",
   "metadata": {},
   "source": [
    "## Download and Load the Dataset:"
   ]
  },
  {
   "cell_type": "markdown",
   "metadata": {},
   "source": [
    "• Access and download the dataset from the provided [link](https://data.mendeley.com/datasets/8h3s6jkyff/1)\n",
    "\n",
    "• Loadthe images and annotations into your Python environment using TensorFlow\n",
    " or PyTorch."
   ]
  },
  {
   "cell_type": "code",
   "execution_count": 1,
   "metadata": {},
   "outputs": [],
   "source": [
    "import os\n",
    "import numpy as np\n",
    "import pandas as pd\n",
    "from torchvision.io import read_image\n",
    "import torch\n",
    "import cv2\n",
    "from torch.utils.data import Dataset, DataLoader\n",
    "from torchvision.transforms import ToTensor\n",
    "from torchvision import transforms\n",
    "import matplotlib.pyplot as plt\n",
    "from tqdm import tqdm\n",
    "import xml.etree.ElementTree as ET\n",
    "from PIL import Image\n",
    "from torchvision import transforms\n",
    "from torchsummary import summary\n",
    "\n",
    "import torch._dynamo\n",
    "torch._dynamo.config.suppress_errors = True"
   ]
  },
  {
   "cell_type": "code",
   "execution_count": 2,
   "metadata": {},
   "outputs": [],
   "source": [
    "class TomatoDataset(Dataset):\n",
    "    def __init__(self, img_dir, annotations_dir, max_objects=30, transform=None):\n",
    "        self.img_dir = img_dir\n",
    "        self.annotations_dir = annotations_dir\n",
    "        self.max_objects = max_objects\n",
    "        self.transform = transform\n",
    "\n",
    "    def __len__(self):\n",
    "        # Assuming image and annotation files match in number and naming convention\n",
    "        return len(os.listdir(self.img_dir))\n",
    "\n",
    "    def __getitem__(self, idx):\n",
    "        # Construct file paths for image and annotation\n",
    "        annot_file_path = os.path.join(self.annotations_dir, f'{idx:04}.xml')\n",
    "        img_file_path = os.path.join(self.img_dir, f'{idx:04}.jpg')\n",
    "\n",
    "        # Load and parse the XML annotation file\n",
    "        tree = ET.parse(annot_file_path)\n",
    "        root = tree.getroot()\n",
    "        boxes = []\n",
    "        orig_width = int(root.find('./size/width').text)\n",
    "        orig_height = int(root.find('./size/height').text)\n",
    "\n",
    "        for obj in root.findall('object'):\n",
    "            xmin = round(float(obj.find('bndbox/xmin').text))\n",
    "            ymin = round(float(obj.find('bndbox/ymin').text))\n",
    "            xmax = round(float(obj.find('bndbox/xmax').text))\n",
    "            ymax = round(float(obj.find('bndbox/ymax').text))\n",
    "            boxes.append([xmin, ymin, xmax, ymax])\n",
    "\n",
    "        # Resize and scale bounding boxes based on new image size\n",
    "        scale_x, scale_y = 224 / orig_width, 224 / orig_height\n",
    "        scaled_boxes = []\n",
    "        for box in boxes[:self.max_objects]:  # Limit to max_objects\n",
    "            x_min = box[0] * scale_x\n",
    "            y_min = box[1] * scale_y\n",
    "            x_max = box[2] * scale_x\n",
    "            y_max = box[3] * scale_y\n",
    "            scaled_boxes.append([x_min, y_min, x_max, y_max])\n",
    "\n",
    "        # Pad or crop boxes to match max_objects\n",
    "        padded_boxes = np.zeros((self.max_objects, 4))\n",
    "        scaled_boxes = np.array(scaled_boxes[:self.max_objects])\n",
    "        padded_boxes[:scaled_boxes.shape[0]] = scaled_boxes\n",
    "\n",
    "        # Convert boxes to tensor\n",
    "        boxes_tensor = torch.tensor(padded_boxes, dtype=torch.float32)\n",
    "\n",
    "        # Load and transform image\n",
    "        img = Image.open(img_file_path).convert(\"RGB\")\n",
    "        if self.transform:\n",
    "            img = self.transform(img)\n",
    "\n",
    "        return img, boxes_tensor"
   ]
  },
  {
   "cell_type": "markdown",
   "metadata": {},
   "source": [
    "• Resize all images to a uniform size (e.g., 224x224 pixels).\n",
    "\n",
    "• Normalize pixel values to the range [0, 1].\n",
    "\n",
    "• Apply data augmentation techniques if necessary (e.g., rotation, flipping)."
   ]
  },
  {
   "cell_type": "code",
   "execution_count": 3,
   "metadata": {},
   "outputs": [],
   "source": [
    "# Define transformations\n",
    "data_transform = transforms.Compose([\n",
    "    transforms.Resize((224, 224)),\n",
    "    transforms.ToTensor(),\n",
    "    transforms.RandomHorizontalFlip(),\n",
    "    transforms.RandomRotation(10),\n",
    "])"
   ]
  },
  {
   "cell_type": "code",
   "execution_count": 4,
   "metadata": {},
   "outputs": [],
   "source": [
    "dataset = TomatoDataset(annotations_dir=r'TomatoPlantfactoryDataset\\TomatoPlantfactoryDataset\\TomatoPlantfactoryDataset\\Annotations',\n",
    "                       img_dir=r'TomatoPlantfactoryDataset\\TomatoPlantfactoryDataset\\TomatoPlantfactoryDataset\\Images', transform=data_transform)"
   ]
  },
  {
   "cell_type": "code",
   "execution_count": 5,
   "metadata": {},
   "outputs": [
    {
     "data": {
      "text/plain": [
       "(520, 416, 26, 78)"
      ]
     },
     "execution_count": 5,
     "metadata": {},
     "output_type": "execute_result"
    }
   ],
   "source": [
    "train_size = int(0.8 * len(dataset))\n",
    "val_size = int(0.05 * len(dataset))\n",
    "test_size = len(dataset) - train_size - val_size\n",
    "\n",
    "dataset.__len__(), train_size, val_size, test_size"
   ]
  },
  {
   "cell_type": "code",
   "execution_count": 6,
   "metadata": {},
   "outputs": [
    {
     "data": {
      "text/plain": [
       "(13, 1, 3)"
      ]
     },
     "execution_count": 6,
     "metadata": {},
     "output_type": "execute_result"
    }
   ],
   "source": [
    "train_dataset, val_dataset, test_dataset = torch.utils.data.random_split(dataset, [train_size, val_size, test_size])\n",
    "train_loader = DataLoader(train_dataset, batch_size=32, shuffle=True)\n",
    "val_loader = DataLoader(val_dataset, batch_size=32, shuffle=True)\n",
    "test_loader = DataLoader(test_dataset, batch_size=32, shuffle=False)\n",
    "\n",
    "train_loader.__len__(), val_loader.__len__(), test_loader.__len__()"
   ]
  },
  {
   "cell_type": "markdown",
   "metadata": {},
   "source": [
    "## Design the CNN Architecture:"
   ]
  },
  {
   "cell_type": "markdown",
   "metadata": {},
   "source": [
    "• Construct a CNN suitable for object detection and counting.\n",
    "\n",
    "• Define each layer with parameters such as the number of filters, kernel size, activation functions, and pooling layers.\n",
    "\n",
    "• Example Architecture:\n",
    "\n",
    "    – Conv Layer 1: 32 filters, 3x3 kernel, ReLU activation\n",
    "\n",
    "    – MaxPooling Layer 1: 2x2 pool size\n",
    "\n",
    "    – Conv Layer 2: 64 filters, 3x3 kernel, ReLU activation\n",
    "\n",
    "    – MaxPooling Layer 2: 2x2 pool size\n",
    "    \n",
    "    – Flatten Layer\n",
    "\n",
    "    – Dense Layer: 128 neurons, ReLU activation\n",
    "\n",
    "    – Output Layer: 1 neuron (for count), linear activation"
   ]
  },
  {
   "cell_type": "code",
   "execution_count": 7,
   "metadata": {},
   "outputs": [],
   "source": [
    "import torch.nn as nn\n",
    "import torch.optim as optim\n",
    "\n",
    "class TomatoCounterCNN(nn.Module):\n",
    "    def __init__(self):\n",
    "        super(TomatoCounterCNN, self).__init__()\n",
    "        self.conv1 = nn.Conv2d(3, 32, kernel_size=3, padding=1)\n",
    "        self.pool1 = nn.MaxPool2d(2, 2)\n",
    "        self.conv2 = nn.Conv2d(32, 64, kernel_size=3, padding=1)\n",
    "        self.pool2 = nn.MaxPool2d(2, 2)\n",
    "        self.flatten = nn.Flatten()\n",
    "        self.fc1 = nn.Linear(64 * 56 * 56, 128)  # Adjust dimensions based on output size of last pooling layer\n",
    "        self.fc2 = nn.Linear(128, 1)  # Output layer for counting\n",
    "\n",
    "    def forward(self, x):\n",
    "        x = self.pool1(torch.relu(self.conv1(x)))\n",
    "        x = self.pool2(torch.relu(self.conv2(x)))\n",
    "        x = self.flatten(x)\n",
    "        x = torch.relu(self.fc1(x))\n",
    "        x = self.fc2(x)  # No activation here for regression output\n",
    "        return x\n"
   ]
  },
  {
   "cell_type": "markdown",
   "metadata": {},
   "source": [
    "## Compile the Model"
   ]
  },
  {
   "cell_type": "markdown",
   "metadata": {},
   "source": [
    "• Select Mean Squared Error (MSE) as the loss function.\n",
    "\n",
    "• Choose the Adam optimizer with a learning rate of 0.001.\n",
    "\n",
    "• Define Mean Absolute Error (MAE) as a metric to monitor."
   ]
  },
  {
   "cell_type": "code",
   "execution_count": 8,
   "metadata": {},
   "outputs": [],
   "source": [
    "model = TomatoCounterCNN()\n",
    "criterion = nn.MSELoss()\n",
    "optimizer = optim.Adam(model.parameters(), lr=0.001)"
   ]
  },
  {
   "cell_type": "code",
   "execution_count": 9,
   "metadata": {},
   "outputs": [
    {
     "name": "stdout",
     "output_type": "stream",
     "text": [
      "TomatoCounterCNN(\n",
      "  (conv1): Conv2d(3, 32, kernel_size=(3, 3), stride=(1, 1), padding=(1, 1))\n",
      "  (pool1): MaxPool2d(kernel_size=2, stride=2, padding=0, dilation=1, ceil_mode=False)\n",
      "  (conv2): Conv2d(32, 64, kernel_size=(3, 3), stride=(1, 1), padding=(1, 1))\n",
      "  (pool2): MaxPool2d(kernel_size=2, stride=2, padding=0, dilation=1, ceil_mode=False)\n",
      "  (flatten): Flatten(start_dim=1, end_dim=-1)\n",
      "  (fc1): Linear(in_features=200704, out_features=128, bias=True)\n",
      "  (fc2): Linear(in_features=128, out_features=1, bias=True)\n",
      ")\n"
     ]
    }
   ],
   "source": [
    "print(model)"
   ]
  },
  {
   "cell_type": "markdown",
   "metadata": {},
   "source": [
    "## Train the CNN"
   ]
  },
  {
   "cell_type": "markdown",
   "metadata": {},
   "source": [
    "• Split the dataset into training (80%) and testing (20%) sets.\n",
    "\n",
    "• Train the model for 20 epochs with a batch size of 32.\n",
    "\n",
    "• Include validation to monitor performance on unseen data."
   ]
  },
  {
   "cell_type": "code",
   "execution_count": 10,
   "metadata": {},
   "outputs": [],
   "source": [
    "def train_model(model, train_loader, val_loader, epochs=30, patience=5):\n",
    "    best_val_mse = float('inf')\n",
    "    best_model = None\n",
    "    train_mse_list, val_mse_list = [], []\n",
    "    patience_counter = 0\n",
    "\n",
    "    for epoch in range(epochs):\n",
    "        model.train()\n",
    "        train_loss = 0.0\n",
    "\n",
    "        for images, boxes in tqdm(train_loader):\n",
    "            optimizer.zero_grad()\n",
    "            outputs = model(images)\n",
    "            targets = torch.tensor([len(box[box[:, 0] > 0]) for box in boxes], dtype=torch.float32).unsqueeze(1)\n",
    "            loss = criterion(outputs, targets)\n",
    "            loss.backward()\n",
    "            optimizer.step()\n",
    "            train_loss += loss.item()\n",
    "\n",
    "        train_mse = train_loss / len(train_loader)\n",
    "        train_mse_list.append(train_mse)\n",
    "\n",
    "        # Validation\n",
    "        model.eval()\n",
    "        val_loss = 0.0\n",
    "        with torch.no_grad():\n",
    "            for images, boxes in val_loader:\n",
    "                outputs = model(images)\n",
    "                targets = torch.tensor([len(box[box[:, 0] > 0]) for box in boxes], dtype=torch.float32).unsqueeze(1)\n",
    "                loss = criterion(outputs, targets)\n",
    "                val_loss += loss.item()\n",
    "\n",
    "        val_mse = val_loss / len(val_loader)\n",
    "        val_mse_list.append(val_mse)\n",
    "\n",
    "        print(f\"Epoch [{epoch+1}/{epochs}], Train MSE: {train_mse:.4f}, Val MSE: {val_mse:.4f}\")\n",
    "\n",
    "        # Early Stopping Check\n",
    "        if val_mse < best_val_mse:\n",
    "            best_val_mse = val_mse\n",
    "            best_model = model.state_dict()  # Save the best model\n",
    "            patience_counter = 0  # Reset the patience counter\n",
    "        else:\n",
    "            patience_counter += 1\n",
    "\n",
    "        if patience_counter >= patience:\n",
    "            print(f\"Early stopping at epoch {epoch+1}\")\n",
    "            break\n",
    "\n",
    "    # Load the best model weights\n",
    "    model.load_state_dict(best_model)\n",
    "    return model, train_mse_list, val_mse_list"
   ]
  },
  {
   "cell_type": "code",
   "execution_count": 11,
   "metadata": {},
   "outputs": [
    {
     "name": "stderr",
     "output_type": "stream",
     "text": [
      "100%|██████████| 13/13 [01:19<00:00,  6.08s/it]\n"
     ]
    },
    {
     "name": "stdout",
     "output_type": "stream",
     "text": [
      "Epoch [1/20], Train MSE: 81.8776, Val MSE: 44.2093\n"
     ]
    },
    {
     "name": "stderr",
     "output_type": "stream",
     "text": [
      "100%|██████████| 13/13 [01:24<00:00,  6.54s/it]\n"
     ]
    },
    {
     "name": "stdout",
     "output_type": "stream",
     "text": [
      "Epoch [2/20], Train MSE: 56.5684, Val MSE: 56.8067\n"
     ]
    },
    {
     "name": "stderr",
     "output_type": "stream",
     "text": [
      "100%|██████████| 13/13 [01:25<00:00,  6.57s/it]\n"
     ]
    },
    {
     "name": "stdout",
     "output_type": "stream",
     "text": [
      "Epoch [3/20], Train MSE: 47.5062, Val MSE: 43.5362\n"
     ]
    },
    {
     "name": "stderr",
     "output_type": "stream",
     "text": [
      "100%|██████████| 13/13 [01:21<00:00,  6.23s/it]\n"
     ]
    },
    {
     "name": "stdout",
     "output_type": "stream",
     "text": [
      "Epoch [4/20], Train MSE: 45.6808, Val MSE: 46.6329\n"
     ]
    },
    {
     "name": "stderr",
     "output_type": "stream",
     "text": [
      "100%|██████████| 13/13 [01:25<00:00,  6.60s/it]\n"
     ]
    },
    {
     "name": "stdout",
     "output_type": "stream",
     "text": [
      "Epoch [5/20], Train MSE: 41.5310, Val MSE: 38.1256\n"
     ]
    },
    {
     "name": "stderr",
     "output_type": "stream",
     "text": [
      "100%|██████████| 13/13 [01:23<00:00,  6.43s/it]\n"
     ]
    },
    {
     "name": "stdout",
     "output_type": "stream",
     "text": [
      "Epoch [6/20], Train MSE: 44.2850, Val MSE: 40.9921\n"
     ]
    },
    {
     "name": "stderr",
     "output_type": "stream",
     "text": [
      "100%|██████████| 13/13 [01:25<00:00,  6.54s/it]\n"
     ]
    },
    {
     "name": "stdout",
     "output_type": "stream",
     "text": [
      "Epoch [7/20], Train MSE: 38.2380, Val MSE: 43.9936\n"
     ]
    },
    {
     "name": "stderr",
     "output_type": "stream",
     "text": [
      "100%|██████████| 13/13 [01:18<00:00,  6.04s/it]\n"
     ]
    },
    {
     "name": "stdout",
     "output_type": "stream",
     "text": [
      "Epoch [8/20], Train MSE: 35.3608, Val MSE: 46.1049\n"
     ]
    },
    {
     "name": "stderr",
     "output_type": "stream",
     "text": [
      "100%|██████████| 13/13 [01:17<00:00,  5.96s/it]\n"
     ]
    },
    {
     "name": "stdout",
     "output_type": "stream",
     "text": [
      "Epoch [9/20], Train MSE: 32.4261, Val MSE: 40.4653\n"
     ]
    },
    {
     "name": "stderr",
     "output_type": "stream",
     "text": [
      "100%|██████████| 13/13 [01:17<00:00,  6.00s/it]\n"
     ]
    },
    {
     "name": "stdout",
     "output_type": "stream",
     "text": [
      "Epoch [10/20], Train MSE: 34.6939, Val MSE: 45.6393\n",
      "Early stopping at epoch 10\n"
     ]
    }
   ],
   "source": [
    "# Run training\n",
    "model, train_mse_list, val_mse_lis = train_model(model, train_loader, val_loader, epochs=20, patience=5)"
   ]
  },
  {
   "cell_type": "markdown",
   "metadata": {},
   "source": [
    "## Evaluate the Model"
   ]
  },
  {
   "cell_type": "markdown",
   "metadata": {},
   "source": [
    "• Assess performance on the testing set using MAE and Root Mean Squared Error (RMSE).\n",
    "\n",
    "• Create visualizations such as loss curves and scatter plots comparing predicted and actual counts."
   ]
  },
  {
   "cell_type": "code",
   "execution_count": 12,
   "metadata": {},
   "outputs": [
    {
     "data": {
      "image/png": "[encoded data removed]",
      "text/plain": [
       "<Figure size 640x480 with 1 Axes>"
      ]
     },
     "metadata": {},
     "output_type": "display_data"
    }
   ],
   "source": [
    "fig, ax = plt.subplots()\n",
    "ax.plot(train_mse_list)\n",
    "ax.plot(val_mse_lis)\n",
    "ax.set_title('Train & Val MSE')\n",
    "ax.legend(['train MSE', 'val MSE'])\n",
    "plt.show()"
   ]
  },
  {
   "cell_type": "code",
   "execution_count": 13,
   "metadata": {},
   "outputs": [
    {
     "name": "stdout",
     "output_type": "stream",
     "text": [
      "[30, 18, 7, 30, 9, 18, 16, 8, 26, 19, 21, 7, 21, 22, 27, 22, 30, 23, 30, 17, 16, 30, 5, 12, 13, 5, 8, 17, 10, 11, 15, 11, 5, 17, 9, 29, 6, 8, 8, 17, 10, 13, 19, 13, 8, 22, 13, 21, 12, 14, 10, 10, 8, 21, 17, 11, 8, 20, 10, 14, 30, 10, 30, 20, 30, 13, 22, 7, 18, 15, 15, 30, 30, 19, 22, 19, 13, 16]\n",
      "[13, 11, 10, 19, 14, 15, 10, 9, 9, 11, 12, 6, 8, 13, 12, 12, 15, 12, 11, 12, 10, 15, 11, 10, 11, 14, 7, 12, 8, 9, 7, 9, 12, 8, 6, 14, 6, 8, 9, 14, 7, 19, 10, 8, 7, 12, 9, 18, 11, 12, 13, 9, 13, 14, 10, 10, 5, 10, 10, 17, 12, 10, 9, 16, 11, 8, 12, 12, 11, 9, 11, 12, 19, 10, 11, 11, 10, 11]\n"
     ]
    }
   ],
   "source": [
    "all_true_test_labels = []\n",
    "all_pred_test_labels = []\n",
    "\n",
    "for test_image, test_label in test_loader:\n",
    "    true_label = [int(label.count_nonzero()) for label in torch.sum(test_label, (2))]\n",
    "    pred_label = [int(label) for label in model(test_image)]\n",
    "    all_true_test_labels.extend(true_label)\n",
    "    all_pred_test_labels.extend(pred_label)\n",
    "\n",
    "print(all_true_test_labels)\n",
    "print(all_pred_test_labels)"
   ]
  },
  {
   "cell_type": "code",
   "execution_count": 14,
   "metadata": {},
   "outputs": [
    {
     "data": {
      "text/plain": [
       "<sklearn.metrics._plot.confusion_matrix.ConfusionMatrixDisplay at 0x1dfda2d5700>"
      ]
     },
     "execution_count": 14,
     "metadata": {},
     "output_type": "execute_result"
    },
    {
     "data": {
      "image/png": "[encoded data removed]",
      "text/plain": [
       "<Figure size 640x480 with 2 Axes>"
      ]
     },
     "metadata": {},
     "output_type": "display_data"
    }
   ],
   "source": [
    "from sklearn.metrics import confusion_matrix, ConfusionMatrixDisplay\n",
    "\n",
    "cm = confusion_matrix(y_true=all_true_test_labels, y_pred=all_pred_test_labels)\n",
    "disp = ConfusionMatrixDisplay(cm)\n",
    "disp.plot()"
   ]
  },
  {
   "cell_type": "code",
   "execution_count": null,
   "metadata": {},
   "outputs": [],
   "source": []
  }
 ],
 "metadata": {
  "kernelspec": {
   "display_name": "Python 3",
   "language": "python",
   "name": "python3"
  },
  "language_info": {
   "codemirror_mode": {
    "name": "ipython",
    "version": 3
   },
   "file_extension": ".py",
   "mimetype": "text/x-python",
   "name": "python",
   "nbconvert_exporter": "python",
   "pygments_lexer": "ipython3",
   "version": "3.12.4"
  }
 },
 "nbformat": 4,
 "nbformat_minor": 2
}
